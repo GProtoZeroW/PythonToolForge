{
 "cells": [
  {
   "cell_type": "code",
   "execution_count": 1,
   "metadata": {},
   "outputs": [],
   "source": [
    "from sympy import *\n",
    "init_printing()\n",
    " "
   ]
  },
  {
   "cell_type": "markdown",
   "metadata": {},
   "source": [
    "# Prototyping\n",
    "create expression to test, using binomial coefficient because it's everywhere and simple"
   ]
  },
  {
   "cell_type": "code",
   "execution_count": 2,
   "metadata": {},
   "outputs": [],
   "source": [
    "x, y, xprime, yprime=symbols('x, y, xp, yp')"
   ]
  },
  {
   "cell_type": "code",
   "execution_count": 3,
   "metadata": {},
   "outputs": [],
   "source": [
    "xthing=x+y**2"
   ]
  },
  {
   "cell_type": "code",
   "execution_count": 4,
   "metadata": {},
   "outputs": [
    {
     "data": {
      "image/png": "[encoded data removed]",
      "text/latex": [
       "$${\\binom{x + y^{2}}{y}}$$"
      ],
      "text/plain": [
       "⎛     2⎞\n",
       "⎜x + y ⎟\n",
       "⎜      ⎟\n",
       "⎝  y   ⎠"
      ]
     },
     "execution_count": 4,
     "metadata": {},
     "output_type": "execute_result"
    }
   ],
   "source": [
    "Test=binomial(xthing, y); Test"
   ]
  },
  {
   "cell_type": "markdown",
   "metadata": {},
   "source": [
    "## prototype"
   ]
  },
  {
   "cell_type": "code",
   "execution_count": 5,
   "metadata": {},
   "outputs": [
    {
     "data": {
      "image/png": "[encoded data removed]",
      "text/latex": [
       "$$\\left ( \\left\\{x, y\\right\\}, \\quad y\\right )$$"
      ],
      "text/plain": [
       "({x, y}, y)"
      ]
     },
     "execution_count": 5,
     "metadata": {},
     "output_type": "execute_result"
    }
   ],
   "source": [
    "nSelf_arg, kSelf_arg=Test.args; nSelf_arg.free_symbols, kSelf_arg"
   ]
  },
  {
   "cell_type": "code",
   "execution_count": 6,
   "metadata": {},
   "outputs": [
    {
     "data": {
      "text/plain": [
       "['x', 'y']"
      ]
     },
     "execution_count": 6,
     "metadata": {},
     "output_type": "execute_result"
    }
   ],
   "source": [
    "nSelf_argN=lambdify(tuple(nSelf_arg.free_symbols), nSelf_arg, dummify=False)\n",
    "nSelf_argNargs=list(nSelf_argN.__code__.co_varnames)\n",
    "nSelf_argNargs"
   ]
  },
  {
   "cell_type": "code",
   "execution_count": 7,
   "metadata": {},
   "outputs": [
    {
     "data": {
      "text/plain": [
       "['y']"
      ]
     },
     "execution_count": 7,
     "metadata": {},
     "output_type": "execute_result"
    }
   ],
   "source": [
    "kSelf_argN=lambdify(tuple(kSelf_arg.free_symbols), kSelf_arg, dummify=False)\n",
    "kSelf_argNargs=list(kSelf_argN.__code__.co_varnames)\n",
    "kSelf_argNargs"
   ]
  },
  {
   "cell_type": "code",
   "execution_count": 8,
   "metadata": {},
   "outputs": [
    {
     "data": {
      "text/plain": [
       "['y', 'x']"
      ]
     },
     "execution_count": 8,
     "metadata": {},
     "output_type": "execute_result"
    }
   ],
   "source": [
    "binomialN_args=list(set(nSelf_argNargs).union(set(kSelf_argNargs)))\n",
    "binomialN_args"
   ]
  },
  {
   "cell_type": "code",
   "execution_count": 9,
   "metadata": {},
   "outputs": [],
   "source": [
    "from scipy.special import binom as binomalN"
   ]
  },
  {
   "cell_type": "code",
   "execution_count": 10,
   "metadata": {},
   "outputs": [
    {
     "data": {
      "text/plain": [
       "'lambda y,x: binomalN( nSelf_argN(x,y), kSelf_argN(y) )'"
      ]
     },
     "execution_count": 10,
     "metadata": {},
     "output_type": "execute_result"
    }
   ],
   "source": [
    "TestN=f\"lambda {','.join(binomialN_args)}: binomalN( nSelf_argN({','.join(nSelf_argNargs)}), kSelf_argN({','.join(kSelf_argNargs)}) )\"\n",
    "TestN"
   ]
  },
  {
   "cell_type": "code",
   "execution_count": 11,
   "metadata": {},
   "outputs": [],
   "source": [
    "TestNN=eval(TestN)"
   ]
  },
  {
   "cell_type": "markdown",
   "metadata": {},
   "source": [
    "## Prototype Testing"
   ]
  },
  {
   "cell_type": "code",
   "execution_count": 12,
   "metadata": {},
   "outputs": [
    {
     "data": {
      "image/png": "[encoded data removed]",
      "text/latex": [
       "$$21.0$$"
      ],
      "text/plain": [
       "21.0"
      ]
     },
     "execution_count": 12,
     "metadata": {},
     "output_type": "execute_result"
    }
   ],
   "source": [
    "TestNN(x=3,y=2)"
   ]
  },
  {
   "cell_type": "code",
   "execution_count": 13,
   "metadata": {},
   "outputs": [
    {
     "data": {
      "image/png": "[encoded data removed]",
      "text/latex": [
       "$$21$$"
      ],
      "text/plain": [
       "21"
      ]
     },
     "execution_count": 13,
     "metadata": {},
     "output_type": "execute_result"
    }
   ],
   "source": [
    "Test.subs({x:3, y:2})"
   ]
  },
  {
   "cell_type": "markdown",
   "metadata": {},
   "source": [
    "## Result (Pass)"
   ]
  },
  {
   "cell_type": "markdown",
   "metadata": {},
   "source": [
    "# Bind functional proto-code to class "
   ]
  },
  {
   "cell_type": "code",
   "execution_count": 14,
   "metadata": {},
   "outputs": [],
   "source": [
    "class binomial2(binomial):\n",
    "    def __NumericalMap_Defualt__(self):\n",
    "        #get the arguments of n, k of binomial(n,k)\n",
    "        nSelf_arg, kSelf_arg = self.args\n",
    "\n",
    "        #lambdify the n argument and collect terms, for moment using clean lambdify in testing\n",
    "        nSelf_argN = lambdify(tuple(nSelf_arg.free_symbols), nSelf_arg, dummify=False)\n",
    "        nSelf_argNargs = list(nSelf_argN.__code__.co_varnames)\n",
    "\n",
    "\n",
    "        #repeat for the k argument\n",
    "        kSelf_argN = lambdify(tuple(kSelf_arg.free_symbols), kSelf_arg, dummify=False)\n",
    "        kSelf_argNargs = list(kSelf_argN.__code__.co_varnames)\n",
    "\n",
    "        #get concise argument list for final generated expression\n",
    "        binomialN_args = list(set(nSelf_argNargs).union(set(kSelf_argNargs)))\n",
    "\n",
    "        #import the mapping from sympy binomial to scipy.special.binom\n",
    "\n",
    "        from scipy.special import binom as binomalN\n",
    "        Numerclized=f\"lambda {','.join(binomialN_args)}: binomalN( nSelf_argN({','.join(nSelf_argNargs)}), kSelf_argN({','.join(kSelf_argNargs)}) )\"\n",
    "\n",
    "        return eval(Numerclized)"
   ]
  },
  {
   "cell_type": "markdown",
   "metadata": {},
   "source": [
    "## create mark2 instance of binomial coefficient \n",
    "\n"
   ]
  },
  {
   "cell_type": "code",
   "execution_count": 15,
   "metadata": {},
   "outputs": [
    {
     "data": {
      "image/png": "[encoded data removed]",
      "text/latex": [
       "$${\\binom{x + y^{2}}{y}}$$"
      ],
      "text/plain": [
       "⎛     2⎞\n",
       "⎜x + y ⎟\n",
       "⎜      ⎟\n",
       "⎝  y   ⎠"
      ]
     },
     "execution_count": 15,
     "metadata": {},
     "output_type": "execute_result"
    }
   ],
   "source": [
    "Test3=binomial2(xthing, y); Test3"
   ]
  },
  {
   "cell_type": "markdown",
   "metadata": {},
   "source": [
    "## Test mark2"
   ]
  },
  {
   "cell_type": "code",
   "execution_count": 16,
   "metadata": {},
   "outputs": [
    {
     "data": {
      "image/png": "[encoded data removed]",
      "text/latex": [
       "$$21.0$$"
      ],
      "text/plain": [
       "21.0"
      ]
     },
     "execution_count": 16,
     "metadata": {},
     "output_type": "execute_result"
    }
   ],
   "source": [
    "Test3N=Test3.__NumericalMap_Defualt__()\n",
    "Test3N(x=3,y=2)"
   ]
  },
  {
   "cell_type": "markdown",
   "metadata": {},
   "source": [
    "## Result (Pass)"
   ]
  },
  {
   "cell_type": "markdown",
   "metadata": {},
   "source": [
    "# To Do"
   ]
  },
  {
   "cell_type": "code",
   "execution_count": 17,
   "metadata": {},
   "outputs": [
    {
     "data": {
      "image/png": "[encoded data removed]",
      "text/latex": [
       "$$y + {\\binom{x + y^{2}}{y}}$$"
      ],
      "text/plain": [
       "    ⎛     2⎞\n",
       "    ⎜x + y ⎟\n",
       "y + ⎜      ⎟\n",
       "    ⎝  y   ⎠"
      ]
     },
     "execution_count": 17,
     "metadata": {},
     "output_type": "execute_result"
    }
   ],
   "source": [
    "Test4=y+binomial2(xthing, y); Test4"
   ]
  },
  {
   "cell_type": "markdown",
   "metadata": {},
   "source": [
    "And I have no idea how to make `. __NumericalMap_Defualt__(self)` be called when `lambdify` acts on it and bind to to the rest of the expression"
   ]
  },
  {
   "cell_type": "raw",
   "metadata": {},
   "source": [
    "Test4N=lambdify(tuple(Test4.free_symbols), Test4, dummify=False)\n",
    "Test4N(x=3, y=2)"
   ]
  }
 ],
 "metadata": {
  "kernelspec": {
   "display_name": "Python 3",
   "language": "python",
   "name": "python3"
  },
  "language_info": {
   "codemirror_mode": {
    "name": "ipython",
    "version": 3
   },
   "file_extension": ".py",
   "mimetype": "text/x-python",
   "name": "python",
   "nbconvert_exporter": "python",
   "pygments_lexer": "ipython3",
   "version": "3.6.3"
  },
  "latex_envs": {
   "LaTeX_envs_menu_present": true,
   "autocomplete": true,
   "bibliofile": "biblio.bib",
   "cite_by": "apalike",
   "current_citInitial": 1,
   "eqLabelWithNumbers": true,
   "eqNumInitial": 1,
   "hotkeys": {
    "equation": "Ctrl-E",
    "itemize": "Ctrl-I"
   },
   "labels_anchors": false,
   "latex_user_defs": false,
   "report_style_numbering": false,
   "user_envs_cfg": false
  },
  "toc": {
   "nav_menu": {},
   "number_sections": true,
   "sideBar": true,
   "skip_h1_title": false,
   "toc_cell": false,
   "toc_position": {},
   "toc_section_display": "block",
   "toc_window_display": false
  }
 },
 "nbformat": 4,
 "nbformat_minor": 2
}
