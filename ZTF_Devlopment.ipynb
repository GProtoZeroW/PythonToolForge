{
 "cells": [
  {
   "cell_type": "code",
   "execution_count": 1,
   "metadata": {},
   "outputs": [],
   "source": [
    "from sympy import *\n",
    "init_printing()"
   ]
  },
  {
   "cell_type": "code",
   "execution_count": 2,
   "metadata": {},
   "outputs": [],
   "source": [
    "n=symbols('n', integer=True)\n",
    "y=Function('y', integer=True)\n",
    "x=Function('x', integer=True)"
   ]
  },
  {
   "cell_type": "code",
   "execution_count": 3,
   "metadata": {},
   "outputs": [
    {
     "data": {
      "image/png": "[encoded data removed]",
      "text/latex": [
       "$$z^{- n}$$"
      ],
      "text/plain": [
       " -n\n",
       "z  "
      ]
     },
     "execution_count": 3,
     "metadata": {},
     "output_type": "execute_result"
    }
   ],
   "source": [
    "z=symbols('z')\n",
    "zkernal=z**(-n); zkernal"
   ]
  },
  {
   "cell_type": "code",
   "execution_count": 4,
   "metadata": {},
   "outputs": [],
   "source": [
    "def ZTransDef(f, n, LB=-oo, UB=oo):\n",
    "    \"\"\"\n",
    "    Function to incapsolte the function f in the Z Transform\n",
    "    Args:\n",
    "        f: sympy expsersion to be ZTransformed\n",
    "        n: dummy index varible\n",
    "        LB: lower bound of the Z Transrom summation\n",
    "        UB: upper bound of the Z Transrom summation\n",
    "\n",
    "    \n",
    "    \"\"\"\n",
    "    return Sum(f*zkernal.subs(n, n), (n, LB, UB))"
   ]
  },
  {
   "cell_type": "markdown",
   "metadata": {},
   "source": [
    "# Raw testing"
   ]
  },
  {
   "cell_type": "code",
   "execution_count": 5,
   "metadata": {},
   "outputs": [
    {
     "data": {
      "image/png": "[encoded data removed]",
      "text/latex": [
       "$$- 3 y{\\left (n \\right )} + y{\\left (n + 1 \\right )} = 4$$"
      ],
      "text/plain": [
       "-3⋅y(n) + y(n + 1) = 4"
      ]
     },
     "execution_count": 5,
     "metadata": {},
     "output_type": "execute_result"
    }
   ],
   "source": [
    "TestEq=Eq(y(n+1)-3*y(n), 4); TestEq"
   ]
  },
  {
   "cell_type": "code",
   "execution_count": 6,
   "metadata": {},
   "outputs": [
    {
     "data": {
      "image/png": "[encoded data removed]",
      "text/latex": [
       "$$\\left \\{ y{\\left (0 \\right )} : 1\\right \\}$$"
      ],
      "text/plain": [
       "{y(0): 1}"
      ]
     },
     "execution_count": 6,
     "metadata": {},
     "output_type": "execute_result"
    }
   ],
   "source": [
    "BC={y(0):1}; BC"
   ]
  },
  {
   "cell_type": "code",
   "execution_count": 7,
   "metadata": {},
   "outputs": [
    {
     "data": {
      "image/png": "[encoded data removed]",
      "text/latex": [
       "$$3 \\cdot 3^{n} - 2$$"
      ],
      "text/plain": [
       "   n    \n",
       "3⋅3  - 2"
      ]
     },
     "execution_count": 7,
     "metadata": {},
     "output_type": "execute_result"
    }
   ],
   "source": [
    "KnownSol=rsolve(TestEq, y(n), BC); KnownSol"
   ]
  },
  {
   "cell_type": "code",
   "execution_count": 8,
   "metadata": {},
   "outputs": [
    {
     "data": {
      "image/png": "[encoded data removed]",
      "text/latex": [
       "$$\\begin{cases} \\begin{cases} 0 & \\text{for}\\: 3 \\left|{\\frac{1}{z}}\\right| < 1 \\wedge \\frac{\\left|{z}\\right|}{3} < 1 \\\\3 \\sum_{n=-\\infty}^{\\infty} 3^{n} z^{- n} & \\text{otherwise} \\end{cases} & \\text{for}\\: \\left|{\\frac{1}{z}}\\right| < 1 \\wedge \\left|{z}\\right| < 1 \\\\\\begin{cases} - 2 \\sum_{n=-\\infty}^{\\infty} z^{- n} & \\text{for}\\: 3 \\left|{\\frac{1}{z}}\\right| < 1 \\wedge \\frac{\\left|{z}\\right|}{3} < 1 \\\\- 2 \\sum_{n=-\\infty}^{\\infty} z^{- n} + 3 \\sum_{n=-\\infty}^{\\infty} 3^{n} z^{- n} & \\text{otherwise} \\end{cases} & \\text{otherwise} \\end{cases}$$"
      ],
      "text/plain": [
       "⎧        ⎧                       │1│       │z│                                \n",
       "⎪        ⎪       0         for 3⋅│─│ < 1 ∧ ─── < 1                            \n",
       "⎪        ⎪                       │z│        3                                 \n",
       "⎪        ⎪                                                                    \n",
       "⎪        ⎪    ∞                                                               \n",
       "⎪        ⎪   ___                                                 │1│          \n",
       "⎪        ⎨   ╲                                               for │─│ < 1 ∧ │z│\n",
       "⎪        ⎪    ╲     n  -n                                        │z│          \n",
       "⎪        ⎪3⋅  ╱    3 ⋅z           otherwise                                   \n",
       "⎪        ⎪   ╱                                                                \n",
       "⎪        ⎪   ‾‾‾                                                              \n",
       "⎪        ⎪  n = -∞                                                            \n",
       "⎪        ⎩                                                                    \n",
       "⎪                                                                             \n",
       "⎪⎧              ∞                                                             \n",
       "⎨⎪             ___                                                            \n",
       "⎪⎪             ╲                                                              \n",
       "⎪⎪              ╲     -n                  │1│       │z│                       \n",
       "⎪⎪         -2⋅  ╱    z              for 3⋅│─│ < 1 ∧ ─── < 1                   \n",
       "⎪⎪             ╱                          │z│        3                        \n",
       "⎪⎪             ‾‾‾                                                            \n",
       "⎪⎪            n = -∞                                                          \n",
       "⎪⎨                                                                 otherwise  \n",
       "⎪⎪      ∞              ∞                                                      \n",
       "⎪⎪     ___            ___                                                     \n",
       "⎪⎪     ╲              ╲                                                       \n",
       "⎪⎪      ╲     -n       ╲     n  -n                                            \n",
       "⎪⎪- 2⋅  ╱    z   + 3⋅  ╱    3 ⋅z           otherwise                          \n",
       "⎪⎪     ╱              ╱                                                       \n",
       "⎪⎪     ‾‾‾            ‾‾‾                                                     \n",
       "⎩⎩    n = -∞         n = -∞                                                   \n",
       "\n",
       "    \n",
       "    \n",
       "    \n",
       "    \n",
       "    \n",
       "    \n",
       " < 1\n",
       "    \n",
       "    \n",
       "    \n",
       "    \n",
       "    \n",
       "    \n",
       "    \n",
       "    \n",
       "    \n",
       "    \n",
       "    \n",
       "    \n",
       "    \n",
       "    \n",
       "    \n",
       "    \n",
       "    \n",
       "    \n",
       "    \n",
       "    \n",
       "    \n",
       "    \n",
       "    \n",
       "    "
      ]
     },
     "execution_count": 8,
     "metadata": {},
     "output_type": "execute_result"
    }
   ],
   "source": [
    "simplify(ZTransDef(KnownSol, n).doit(conds='none'))\n",
    "#the conds='none' needs to have a way for findging the min, max bounds\n",
    "#of the ROC"
   ]
  },
  {
   "cell_type": "code",
   "execution_count": 9,
   "metadata": {},
   "outputs": [
    {
     "data": {
      "image/png": "[encoded data removed]",
      "text/latex": [
       "$$4 \\left(\\begin{cases} \\frac{z}{- z + 1} + \\frac{1}{1 - \\frac{1}{z}} & \\text{for}\\: \\left|{\\frac{1}{z}}\\right| < 1 \\wedge \\left|{z}\\right| < 1 \\\\\\sum_{n=-\\infty}^{\\infty} z^{- n} & \\text{otherwise} \\end{cases}\\right)$$"
      ],
      "text/plain": [
       "  ⎛⎧  z        1        │1│              ⎞\n",
       "  ⎜⎪────── + ─────  for │─│ < 1 ∧ │z│ < 1⎟\n",
       "  ⎜⎪-z + 1       1      │z│              ⎟\n",
       "  ⎜⎪         1 - ─                       ⎟\n",
       "  ⎜⎪             z                       ⎟\n",
       "  ⎜⎪                                     ⎟\n",
       "  ⎜⎪    ∞                                ⎟\n",
       "4⋅⎜⎨   ___                               ⎟\n",
       "  ⎜⎪   ╲                                 ⎟\n",
       "  ⎜⎪    ╲     -n                         ⎟\n",
       "  ⎜⎪    ╱    z            otherwise      ⎟\n",
       "  ⎜⎪   ╱                                 ⎟\n",
       "  ⎜⎪   ‾‾‾                               ⎟\n",
       "  ⎜⎪  n = -∞                             ⎟\n",
       "  ⎝⎩                                     ⎠"
      ]
     },
     "execution_count": 9,
     "metadata": {},
     "output_type": "execute_result"
    }
   ],
   "source": [
    "ZTR=ZTransDef(TestEq.rhs, n).doit(conds='none'); ZTR\n",
    "#sympy needs to add conds='none' to sum"
   ]
  },
  {
   "cell_type": "code",
   "execution_count": 10,
   "metadata": {},
   "outputs": [
    {
     "data": {
      "image/png": "[encoded data removed]",
      "text/latex": [
       "$$\\sum_{n=-\\infty}^{\\infty} z^{- n} \\left(- 3 y{\\left (n \\right )} + y{\\left (n + 1 \\right )}\\right)$$"
      ],
      "text/plain": [
       "  ∞                            \n",
       " ___                           \n",
       " ╲                             \n",
       "  ╲     -n                     \n",
       "  ╱    z  ⋅(-3⋅y(n) + y(n + 1))\n",
       " ╱                             \n",
       " ‾‾‾                           \n",
       "n = -∞                         "
      ]
     },
     "execution_count": 10,
     "metadata": {},
     "output_type": "execute_result"
    }
   ],
   "source": [
    "ZTL=ZTransDef(TestEq.lhs, n); ZTL"
   ]
  },
  {
   "cell_type": "code",
   "execution_count": 11,
   "metadata": {},
   "outputs": [
    {
     "data": {
      "image/png": "[encoded data removed]",
      "text/latex": [
       "$$\\sum_{n=-\\infty}^{\\infty} - 3 z^{- n} y{\\left (n \\right )} + \\sum_{n=-\\infty}^{\\infty} z^{- n} y{\\left (n + 1 \\right )}$$"
      ],
      "text/plain": [
       "  ∞                    ∞                \n",
       " ___                  ___               \n",
       " ╲                    ╲                 \n",
       "  ╲        -n          ╲     -n         \n",
       "  ╱    -3⋅z  ⋅y(n) +   ╱    z  ⋅y(n + 1)\n",
       " ╱                    ╱                 \n",
       " ‾‾‾                  ‾‾‾               \n",
       "n = -∞               n = -∞             "
      ]
     },
     "execution_count": 11,
     "metadata": {},
     "output_type": "execute_result"
    }
   ],
   "source": [
    "ZTL=expand(ZTL); ZTL"
   ]
  },
  {
   "cell_type": "code",
   "execution_count": 12,
   "metadata": {},
   "outputs": [
    {
     "data": {
      "image/png": "[encoded data removed]",
      "text/latex": [
       "$$\\left [ y{\\left (n \\right )}, \\quad y{\\left (n + 1 \\right )}\\right ]$$"
      ],
      "text/plain": [
       "[y(n), y(n + 1)]"
      ]
     },
     "execution_count": 12,
     "metadata": {},
     "output_type": "execute_result"
    }
   ],
   "source": [
    "ZTLFs=list(ZTL.atoms(Function)); ZTLFs"
   ]
  },
  {
   "cell_type": "code",
   "execution_count": 13,
   "metadata": {},
   "outputs": [
    {
     "data": {
      "image/png": "[encoded data removed]",
      "text/latex": [
       "$$\\left [ \\left ( n\\right ), \\quad \\left ( n + 1\\right )\\right ]$$"
      ],
      "text/plain": [
       "[(n,), (n + 1,)]"
      ]
     },
     "execution_count": 13,
     "metadata": {},
     "output_type": "execute_result"
    }
   ],
   "source": [
    "ZTLFsArgs=[i.args for i in ZTLFs]; ZTLFsArgs"
   ]
  },
  {
   "cell_type": "code",
   "execution_count": 14,
   "metadata": {},
   "outputs": [
    {
     "data": {
      "image/png": "[encoded data removed]",
      "text/latex": [
       "$$\\left \\{ y{\\left (n \\right )} : Y{\\left (z \\right )}, \\quad y{\\left (n + 1 \\right )} : z Y{\\left (z \\right )} + z y{\\left (0 \\right )}\\right \\}$$"
      ],
      "text/plain": [
       "{y(n): Y(z), y(n + 1): z⋅Y(z) + z⋅y(0)}"
      ]
     },
     "execution_count": 14,
     "metadata": {},
     "output_type": "execute_result"
    }
   ],
   "source": [
    "Y=Function('Y')\n",
    "sups=[Y(z), z*Y(z)+z*y(0)]\n",
    "Sups={i:j for i, j in zip(ZTLFs, sups)}; Sups"
   ]
  },
  {
   "cell_type": "code",
   "execution_count": 15,
   "metadata": {
    "scrolled": true
   },
   "outputs": [],
   "source": [
    "#ZTL.subs(y(n+1), z*Y(z)/zkernal)\n",
    "#sympy I have no Idea why this exspection was raised"
   ]
  },
  {
   "cell_type": "code",
   "execution_count": 16,
   "metadata": {},
   "outputs": [
    {
     "data": {
      "image/png": "[encoded data removed]",
      "text/latex": [
       "$$\\sum_{n=-\\infty}^{\\infty} \\left(- 3 y{\\left (n \\right )} + y{\\left (n + 1 \\right )}\\right)$$"
      ],
      "text/plain": [
       "  ∞                        \n",
       " ___                       \n",
       " ╲                         \n",
       "  ╲    (-3⋅y(n) + y(n + 1))\n",
       "  ╱                        \n",
       " ╱                         \n",
       " ‾‾‾                       \n",
       "n = -∞                     "
      ]
     },
     "execution_count": 16,
     "metadata": {},
     "output_type": "execute_result"
    }
   ],
   "source": [
    "ZTL=simplify(ZTL/zkernal); ZTL"
   ]
  },
  {
   "cell_type": "code",
   "execution_count": 17,
   "metadata": {},
   "outputs": [
    {
     "data": {
      "image/png": "[encoded data removed]",
      "text/latex": [
       "$$\\sum_{n=-\\infty}^{\\infty} \\left(- 3 Y{\\left (z \\right )} + y{\\left (n + 1 \\right )}\\right)$$"
      ],
      "text/plain": [
       "  ∞                        \n",
       " ___                       \n",
       " ╲                         \n",
       "  ╲    (-3⋅Y(z) + y(n + 1))\n",
       "  ╱                        \n",
       " ╱                         \n",
       " ‾‾‾                       \n",
       "n = -∞                     "
      ]
     },
     "execution_count": 17,
     "metadata": {},
     "output_type": "execute_result"
    }
   ],
   "source": [
    "ZTL=ZTL.subs(y(n), Y(z)).doit(); ZTL"
   ]
  },
  {
   "cell_type": "code",
   "execution_count": 18,
   "metadata": {},
   "outputs": [
    {
     "data": {
      "image/png": "[encoded data removed]",
      "text/latex": [
       "$$\\sum_{n=-\\infty}^{\\infty} \\left(z Y{\\left (z \\right )} - z y{\\left (0 \\right )} - 3 Y{\\left (z \\right )}\\right)$$"
      ],
      "text/plain": [
       "  ∞                              \n",
       " ___                             \n",
       " ╲                               \n",
       "  ╲    (z⋅Y(z) - z⋅y(0) - 3⋅Y(z))\n",
       "  ╱                              \n",
       " ╱                               \n",
       " ‾‾‾                             \n",
       "n = -∞                           "
      ]
     },
     "execution_count": 18,
     "metadata": {},
     "output_type": "execute_result"
    }
   ],
   "source": [
    "ZTL=ZTL.subs(y(n+1), z*Y(z)-z*y(0)); ZTL"
   ]
  },
  {
   "cell_type": "code",
   "execution_count": 19,
   "metadata": {},
   "outputs": [
    {
     "data": {
      "image/png": "[encoded data removed]",
      "text/latex": [
       "$$\\infty z Y{\\left (z \\right )} - \\infty z y{\\left (0 \\right )} - \\infty Y{\\left (z \\right )}$$"
      ],
      "text/plain": [
       "∞⋅z⋅Y(z) - ∞⋅z⋅y(0) - ∞⋅Y(z)"
      ]
     },
     "execution_count": 19,
     "metadata": {},
     "output_type": "execute_result"
    }
   ],
   "source": [
    "ZTL.doit()"
   ]
  },
  {
   "cell_type": "code",
   "execution_count": 20,
   "metadata": {},
   "outputs": [
    {
     "data": {
      "image/png": "[encoded data removed]",
      "text/latex": [
       "$$\\infty$$"
      ],
      "text/plain": [
       "∞"
      ]
     },
     "execution_count": 20,
     "metadata": {},
     "output_type": "execute_result"
    }
   ],
   "source": [
    "Sum(1, (n, -oo, oo)).doit()\n",
    "#sympy: this should be 1 since there is no index inside the sum"
   ]
  },
  {
   "cell_type": "code",
   "execution_count": 21,
   "metadata": {},
   "outputs": [
    {
     "data": {
      "image/png": "[encoded data removed]",
      "text/latex": [
       "$$z Y{\\left (z \\right )} - z y{\\left (0 \\right )} - 3 Y{\\left (z \\right )}$$"
      ],
      "text/plain": [
       "z⋅Y(z) - z⋅y(0) - 3⋅Y(z)"
      ]
     },
     "execution_count": 21,
     "metadata": {},
     "output_type": "execute_result"
    }
   ],
   "source": [
    "ZTL=simplify(ZTL).subs(Sum(1, (n, -oo,oo)), 1).doit(); ZTL"
   ]
  },
  {
   "cell_type": "code",
   "execution_count": 22,
   "metadata": {},
   "outputs": [
    {
     "data": {
      "image/png": "[encoded data removed]",
      "text/latex": [
       "$$z Y{\\left (z \\right )} - z y{\\left (0 \\right )} - 3 Y{\\left (z \\right )} = 4 \\left(\\begin{cases} \\frac{z}{- z + 1} + \\frac{1}{1 - \\frac{1}{z}} & \\text{for}\\: \\left|{\\frac{1}{z}}\\right| < 1 \\wedge \\left|{z}\\right| < 1 \\\\\\sum_{n=-\\infty}^{\\infty} z^{- n} & \\text{otherwise} \\end{cases}\\right)$$"
      ],
      "text/plain": [
       "                             ⎛⎧  z        1        │1│              ⎞\n",
       "                             ⎜⎪────── + ─────  for │─│ < 1 ∧ │z│ < 1⎟\n",
       "                             ⎜⎪-z + 1       1      │z│              ⎟\n",
       "                             ⎜⎪         1 - ─                       ⎟\n",
       "                             ⎜⎪             z                       ⎟\n",
       "                             ⎜⎪                                     ⎟\n",
       "                             ⎜⎪    ∞                                ⎟\n",
       "z⋅Y(z) - z⋅y(0) - 3⋅Y(z) = 4⋅⎜⎨   ___                               ⎟\n",
       "                             ⎜⎪   ╲                                 ⎟\n",
       "                             ⎜⎪    ╲     -n                         ⎟\n",
       "                             ⎜⎪    ╱    z            otherwise      ⎟\n",
       "                             ⎜⎪   ╱                                 ⎟\n",
       "                             ⎜⎪   ‾‾‾                               ⎟\n",
       "                             ⎜⎪  n = -∞                             ⎟\n",
       "                             ⎝⎩                                     ⎠"
      ]
     },
     "execution_count": 22,
     "metadata": {},
     "output_type": "execute_result"
    }
   ],
   "source": [
    "ZT=Eq(ZTL, ZTR); ZT"
   ]
  },
  {
   "cell_type": "code",
   "execution_count": 23,
   "metadata": {},
   "outputs": [
    {
     "data": {
      "image/png": "[encoded data removed]",
      "text/latex": [
       "$$Y{\\left (z \\right )} = \\begin{cases} \\frac{z y{\\left (0 \\right )}}{z - 3} & \\text{for}\\: \\left|{\\frac{1}{z}}\\right| < 1 \\wedge \\left|{z}\\right| < 1 \\\\\\frac{1}{z - 3} \\left(z y{\\left (0 \\right )} + 4 \\sum_{n=-\\infty}^{\\infty} z^{- n}\\right) & \\text{otherwise} \\end{cases}$$"
      ],
      "text/plain": [
       "       ⎧       z⋅y(0)              │1│              \n",
       "       ⎪       ──────          for │─│ < 1 ∧ │z│ < 1\n",
       "       ⎪       z - 3               │z│              \n",
       "       ⎪                                            \n",
       "       ⎪             ∞                              \n",
       "       ⎪            ___                             \n",
       "       ⎪            ╲                               \n",
       "Y(z) = ⎨             ╲     -n                       \n",
       "       ⎪z⋅y(0) + 4⋅  ╱    z                         \n",
       "       ⎪            ╱                               \n",
       "       ⎪            ‾‾‾                             \n",
       "       ⎪           n = -∞                           \n",
       "       ⎪─────────────────────        otherwise      \n",
       "       ⎪        z - 3                               \n",
       "       ⎩                                            "
      ]
     },
     "execution_count": 23,
     "metadata": {},
     "output_type": "execute_result"
    }
   ],
   "source": [
    "ZTF=Eq(Y(z), solve(ZT, Y(z))[0]); ZTF"
   ]
  },
  {
   "cell_type": "code",
   "execution_count": 24,
   "metadata": {},
   "outputs": [
    {
     "data": {
      "image/png": "[encoded data removed]",
      "text/latex": [
       "$$Y{\\left (z \\right )} = \\begin{cases} \\frac{z}{z - 3} & \\text{for}\\: \\left|{\\frac{1}{z}}\\right| < 1 \\wedge \\left|{z}\\right| < 1 \\\\\\frac{z + 4 \\sum_{n=-\\infty}^{\\infty} z^{- n}}{z - 3} & \\text{otherwise} \\end{cases}$$"
      ],
      "text/plain": [
       "       ⎧       z              │1│              \n",
       "       ⎪     ─────        for │─│ < 1 ∧ │z│ < 1\n",
       "       ⎪     z - 3            │z│              \n",
       "       ⎪                                       \n",
       "       ⎪        ∞                              \n",
       "       ⎪       ___                             \n",
       "       ⎪       ╲                               \n",
       "Y(z) = ⎨        ╲     -n                       \n",
       "       ⎪z + 4⋅  ╱    z                         \n",
       "       ⎪       ╱                               \n",
       "       ⎪       ‾‾‾                             \n",
       "       ⎪      n = -∞                           \n",
       "       ⎪────────────────        otherwise      \n",
       "       ⎪     z - 3                             \n",
       "       ⎩                                       "
      ]
     },
     "execution_count": 24,
     "metadata": {},
     "output_type": "execute_result"
    }
   ],
   "source": [
    "ZTF=ZTF.subs(BC); ZTF"
   ]
  },
  {
   "cell_type": "code",
   "execution_count": 25,
   "metadata": {},
   "outputs": [
    {
     "data": {
      "image/png": "[encoded data removed]",
      "text/latex": [
       "$$\\sum_{n=-\\infty}^{\\infty} z^{- n} \\left(- 3 y{\\left (n \\right )} + y{\\left (n + 1 \\right )}\\right)$$"
      ],
      "text/plain": [
       "  ∞                            \n",
       " ___                           \n",
       " ╲                             \n",
       "  ╲     -n                     \n",
       "  ╱    z  ⋅(-3⋅y(n) + y(n + 1))\n",
       " ╱                             \n",
       " ‾‾‾                           \n",
       "n = -∞                         "
      ]
     },
     "execution_count": 25,
     "metadata": {},
     "output_type": "execute_result"
    }
   ],
   "source": [
    "ZTL=ZTransDef(TestEq.lhs, n); ZTL"
   ]
  },
  {
   "cell_type": "markdown",
   "metadata": {},
   "source": [
    "# Devlopement of Shifting"
   ]
  },
  {
   "cell_type": "code",
   "execution_count": 26,
   "metadata": {},
   "outputs": [],
   "source": [
    "k=symbols('k', integer=True)"
   ]
  },
  {
   "cell_type": "code",
   "execution_count": 27,
   "metadata": {},
   "outputs": [
    {
     "data": {
      "image/png": "[encoded data removed]",
      "text/latex": [
       "$$y{\\left (0 \\right )}$$"
      ],
      "text/plain": [
       "y(0)"
      ]
     },
     "execution_count": 27,
     "metadata": {},
     "output_type": "execute_result"
    }
   ],
   "source": [
    "Sum(y(k)*zkernal.subs(n, k), (k, 0, 0)).doit()"
   ]
  },
  {
   "cell_type": "code",
   "execution_count": 28,
   "metadata": {},
   "outputs": [
    {
     "data": {
      "image/png": "[encoded data removed]",
      "text/latex": [
       "$$y{\\left (0 \\right )} + \\frac{1}{z} y{\\left (1 \\right )}$$"
      ],
      "text/plain": [
       "       y(1)\n",
       "y(0) + ────\n",
       "        z  "
      ]
     },
     "execution_count": 28,
     "metadata": {},
     "output_type": "execute_result"
    }
   ],
   "source": [
    "Sum(y(k)*zkernal.subs(n, k), (k, 0, 1)).doit()"
   ]
  },
  {
   "cell_type": "code",
   "execution_count": 29,
   "metadata": {},
   "outputs": [
    {
     "data": {
      "image/png": "[encoded data removed]",
      "text/latex": [
       "$$0$$"
      ],
      "text/plain": [
       "0"
      ]
     },
     "execution_count": 29,
     "metadata": {},
     "output_type": "execute_result"
    }
   ],
   "source": [
    "Sum(y(k)*zkernal.subs(n, k), (k, 0, -1)).doit()"
   ]
  },
  {
   "cell_type": "code",
   "execution_count": 30,
   "metadata": {},
   "outputs": [
    {
     "data": {
      "image/png": "[encoded data removed]",
      "text/latex": [
       "$$- z y{\\left (-1 \\right )}$$"
      ],
      "text/plain": [
       "-z⋅y(-1)"
      ]
     },
     "execution_count": 30,
     "metadata": {},
     "output_type": "execute_result"
    }
   ],
   "source": [
    "Sum(y(k)*zkernal.subs(n, k), (k, 0, -2)).doit()"
   ]
  },
  {
   "cell_type": "code",
   "execution_count": 31,
   "metadata": {},
   "outputs": [
    {
     "data": {
      "image/png": "[encoded data removed]",
      "text/latex": [
       "$$z \\left(Y{\\left (z \\right )} - y{\\left (0 \\right )}\\right)$$"
      ],
      "text/plain": [
       "z⋅(Y(z) - y(0))"
      ]
     },
     "execution_count": 31,
     "metadata": {},
     "output_type": "execute_result"
    }
   ],
   "source": [
    "ShiftBound=1\n",
    "z**(ShiftBound)*(Y(z)-Sum(y(k)*zkernal.subs(n, k), (k, 0, ShiftBound-1)).doit())"
   ]
  },
  {
   "cell_type": "code",
   "execution_count": 32,
   "metadata": {},
   "outputs": [
    {
     "data": {
      "image/png": "[encoded data removed]",
      "text/latex": [
       "$$z \\left(z \\left(Y{\\left (z \\right )} - y{\\left (0 \\right )}\\right) - y{\\left (1 \\right )}\\right)$$"
      ],
      "text/plain": [
       "z⋅(z⋅(Y(z) - y(0)) - y(1))"
      ]
     },
     "execution_count": 32,
     "metadata": {},
     "output_type": "execute_result"
    }
   ],
   "source": [
    "def zShift(z, y, Y, ShiftBound):\n",
    "    \"\"\"\n",
    "    Functiont to generate the Right and Left Z Shift property of Z transfrom\n",
    "    Args:\n",
    "        z(sympy symbol): Z transfrom z symbol\n",
    "        y(sympy Function): discrate \"time\" Function being transformed from\n",
    "        Y(sympy Function): discrate Z domian Function that y transfroms into\n",
    "        \n",
    "    \"\"\"\n",
    "    return simplify(z**(ShiftBound)*(Y(z)-Sum(y(k)*zkernal.subs(n, k), (k, 0, ShiftBound-1)).doit()))\n",
    "\n",
    "zShift(z, y,Y, 2)"
   ]
  },
  {
   "cell_type": "code",
   "execution_count": 33,
   "metadata": {},
   "outputs": [
    {
     "data": {
      "image/png": "[encoded data removed]",
      "text/latex": [
       "$$\\sum_{n=-\\infty}^{\\infty} \\left(- 3 y{\\left (n \\right )} + y{\\left (n + 1 \\right )}\\right)$$"
      ],
      "text/plain": [
       "  ∞                        \n",
       " ___                       \n",
       " ╲                         \n",
       "  ╲    (-3⋅y(n) + y(n + 1))\n",
       "  ╱                        \n",
       " ╱                         \n",
       " ‾‾‾                       \n",
       "n = -∞                     "
      ]
     },
     "execution_count": 33,
     "metadata": {},
     "output_type": "execute_result"
    }
   ],
   "source": [
    "ZTL=simplify(ZTL/zkernal); ZTL"
   ]
  },
  {
   "cell_type": "code",
   "execution_count": 34,
   "metadata": {},
   "outputs": [
    {
     "data": {
      "image/png": "[encoded data removed]",
      "text/latex": [
       "$$\\sum_{n=-\\infty}^{\\infty} \\left(z \\left(Y{\\left (z \\right )} - y{\\left (0 \\right )}\\right) - 3 Y{\\left (z \\right )}\\right)$$"
      ],
      "text/plain": [
       "  ∞                              \n",
       " ___                             \n",
       " ╲                               \n",
       "  ╲    (z⋅(Y(z) - y(0)) - 3⋅Y(z))\n",
       "  ╱                              \n",
       " ╱                               \n",
       " ‾‾‾                             \n",
       "n = -∞                           "
      ]
     },
     "execution_count": 34,
     "metadata": {},
     "output_type": "execute_result"
    }
   ],
   "source": [
    "ZTL=ZTL.subs(y(n), zShift(z, y,Y, 0)).subs(y(n+1), zShift(z, y,Y, 1))\n",
    "ZTL"
   ]
  },
  {
   "cell_type": "code",
   "execution_count": 35,
   "metadata": {},
   "outputs": [
    {
     "data": {
      "image/png": "[encoded data removed]",
      "text/latex": [
       "$$z Y{\\left (z \\right )} - z y{\\left (0 \\right )} - 3 Y{\\left (z \\right )}$$"
      ],
      "text/plain": [
       "z⋅Y(z) - z⋅y(0) - 3⋅Y(z)"
      ]
     },
     "execution_count": 35,
     "metadata": {},
     "output_type": "execute_result"
    }
   ],
   "source": [
    "simplify(ZTL).subs(Sum(1, (n, -oo, oo)), 1).doit()"
   ]
  },
  {
   "cell_type": "markdown",
   "metadata": {},
   "source": [
    "# AutoGen Shift"
   ]
  },
  {
   "cell_type": "code",
   "execution_count": 36,
   "metadata": {},
   "outputs": [
    {
     "data": {
      "image/png": "[encoded data removed]",
      "text/latex": [
       "$$\\sum_{n=-\\infty}^{\\infty} z^{- n} \\left(- 3 y{\\left (n \\right )} + y{\\left (n + 1 \\right )}\\right)$$"
      ],
      "text/plain": [
       "  ∞                            \n",
       " ___                           \n",
       " ╲                             \n",
       "  ╲     -n                     \n",
       "  ╱    z  ⋅(-3⋅y(n) + y(n + 1))\n",
       " ╱                             \n",
       " ‾‾‾                           \n",
       "n = -∞                         "
      ]
     },
     "execution_count": 36,
     "metadata": {},
     "output_type": "execute_result"
    }
   ],
   "source": [
    "ZTL=ZTransDef(TestEq.lhs, n); ZTL"
   ]
  },
  {
   "cell_type": "code",
   "execution_count": 37,
   "metadata": {},
   "outputs": [
    {
     "data": {
      "image/png": "[encoded data removed]",
      "text/latex": [
       "$$\\left [ y{\\left (n \\right )}, \\quad y{\\left (n + 1 \\right )}\\right ]$$"
      ],
      "text/plain": [
       "[y(n), y(n + 1)]"
      ]
     },
     "execution_count": 37,
     "metadata": {},
     "output_type": "execute_result"
    }
   ],
   "source": [
    "ZTLFs=list(ZTL.atoms(Function)); ZTLFs"
   ]
  },
  {
   "cell_type": "code",
   "execution_count": 38,
   "metadata": {},
   "outputs": [
    {
     "data": {
      "image/png": "[encoded data removed]",
      "text/latex": [
       "$$\\left ( y{\\left (n \\right )}, \\quad y{\\left (n + 1 \\right )}\\right )$$"
      ],
      "text/plain": [
       "(y(n), y(n + 1))"
      ]
     },
     "execution_count": 38,
     "metadata": {},
     "output_type": "execute_result"
    }
   ],
   "source": [
    "F1=ZTLFs[0]; F2=ZTLFs[1]; F1, F2"
   ]
  },
  {
   "cell_type": "markdown",
   "metadata": {},
   "source": [
    "There should be a way get get $y$ from $y(n)$ but I cant figure it out; would then like to have a way to create $Y$ from $y$"
   ]
  },
  {
   "cell_type": "code",
   "execution_count": 39,
   "metadata": {},
   "outputs": [
    {
     "data": {
      "image/png": "[encoded data removed]",
      "text/latex": [
       "$$\\left ( 0, \\quad 1\\right )$$"
      ],
      "text/plain": [
       "(0, 1)"
      ]
     },
     "execution_count": 39,
     "metadata": {},
     "output_type": "execute_result"
    }
   ],
   "source": [
    "F1.args[0].subs(n, 0), F2.args[0].subs(n, 0)"
   ]
  },
  {
   "cell_type": "code",
   "execution_count": 40,
   "metadata": {},
   "outputs": [
    {
     "data": {
      "image/png": "[encoded data removed]",
      "text/latex": [
       "$$\\left ( Y{\\left (z \\right )}, \\quad z \\left(Y{\\left (z \\right )} - y{\\left (0 \\right )}\\right)\\right )$$"
      ],
      "text/plain": [
       "(Y(z), z⋅(Y(z) - y(0)))"
      ]
     },
     "execution_count": 40,
     "metadata": {},
     "output_type": "execute_result"
    }
   ],
   "source": [
    "zShift(z, y, Y, 0), zShift(z, y, Y, 1)"
   ]
  },
  {
   "cell_type": "code",
   "execution_count": 41,
   "metadata": {},
   "outputs": [
    {
     "data": {
      "image/png": "[encoded data removed]",
      "text/latex": [
       "$$\\left \\{ y{\\left (n \\right )} : Y{\\left (z \\right )}, \\quad y{\\left (n + 1 \\right )} : z \\left(Y{\\left (z \\right )} - y{\\left (0 \\right )}\\right)\\right \\}$$"
      ],
      "text/plain": [
       "{y(n): Y(z), y(n + 1): z⋅(Y(z) - y(0))}"
      ]
     },
     "execution_count": 41,
     "metadata": {},
     "output_type": "execute_result"
    }
   ],
   "source": [
    "Sups={i: zShift(z, y, Y, i.args[0].subs(n, 0)) for i in ZTLFs}\n",
    "Sups"
   ]
  },
  {
   "cell_type": "markdown",
   "metadata": {},
   "source": [
    "# Working Z Transfrom Process Test"
   ]
  },
  {
   "cell_type": "markdown",
   "metadata": {},
   "source": [
    "Set up discrate \"time\" equation"
   ]
  },
  {
   "cell_type": "code",
   "execution_count": 42,
   "metadata": {},
   "outputs": [
    {
     "data": {
      "image/png": "[encoded data removed]",
      "text/latex": [
       "$$- n y{\\left (n - 3 \\right )} + 3 n y{\\left (n + 2 \\right )} - 7 n + y{\\left (n \\right )} = 8 n - x{\\left (n \\right )} + 2 x{\\left (n + 1 \\right )}$$"
      ],
      "text/plain": [
       "-n⋅y(n - 3) + 3⋅n⋅y(n + 2) - 7⋅n + y(n) = 8⋅n - x(n) + 2⋅x(n + 1)"
      ]
     },
     "execution_count": 42,
     "metadata": {},
     "output_type": "execute_result"
    }
   ],
   "source": [
    "TestEq2=Eq(3*n*y(n+2)-n*y(n-3)+y(n)-7*n, 2*x(n+1)-x(n)+8*n); TestEq2"
   ]
  },
  {
   "cell_type": "markdown",
   "metadata": {},
   "source": [
    "call `ZTransDef` on each side respecftly, assuming that each side contains a single function"
   ]
  },
  {
   "cell_type": "code",
   "execution_count": 43,
   "metadata": {},
   "outputs": [
    {
     "data": {
      "image/png": "[encoded data removed]",
      "text/latex": [
       "$$\\left ( \\sum_{n=-\\infty}^{\\infty} z^{- n} \\left(- n y{\\left (n - 3 \\right )} + 3 n y{\\left (n + 2 \\right )} - 7 n + y{\\left (n \\right )}\\right), \\quad \\sum_{n=-\\infty}^{\\infty} z^{- n} \\left(8 n - x{\\left (n \\right )} + 2 x{\\left (n + 1 \\right )}\\right)\\right )$$"
      ],
      "text/plain": [
       "⎛  ∞                                                     ∞                    \n",
       "⎜ ___                                                   ___                   \n",
       "⎜ ╲                                                     ╲                     \n",
       "⎜  ╲     -n                                              ╲     -n             \n",
       "⎜  ╱    z  ⋅(-n⋅y(n - 3) + 3⋅n⋅y(n + 2) - 7⋅n + y(n)),   ╱    z  ⋅(8⋅n - x(n) \n",
       "⎜ ╱                                                     ╱                     \n",
       "⎜ ‾‾‾                                                   ‾‾‾                   \n",
       "⎝n = -∞                                                n = -∞                 \n",
       "\n",
       "             ⎞\n",
       "             ⎟\n",
       "             ⎟\n",
       "             ⎟\n",
       "+ 2⋅x(n + 1))⎟\n",
       "             ⎟\n",
       "             ⎟\n",
       "             ⎠"
      ]
     },
     "execution_count": 43,
     "metadata": {},
     "output_type": "execute_result"
    }
   ],
   "source": [
    "ZTL=ZTransDef(TestEq2.lhs, n); ZTR=ZTransDef(TestEq2.rhs, n)\n",
    "ZTL, ZTR"
   ]
  },
  {
   "cell_type": "code",
   "execution_count": 44,
   "metadata": {},
   "outputs": [
    {
     "data": {
      "image/png": "[encoded data removed]",
      "text/latex": [
       "$$\\left ( \\left [ y{\\left (n + 2 \\right )}, \\quad y{\\left (n - 3 \\right )}, \\quad y{\\left (n \\right )}\\right ], \\quad \\left [ x{\\left (n + 1 \\right )}, \\quad x{\\left (n \\right )}\\right ]\\right )$$"
      ],
      "text/plain": [
       "([y(n + 2), y(n - 3), y(n)], [x(n + 1), x(n)])"
      ]
     },
     "execution_count": 44,
     "metadata": {},
     "output_type": "execute_result"
    }
   ],
   "source": [
    "ZTLFs=list(ZTL.atoms(Function)); ZTRFs=list(ZTR.atoms(Function)); \n",
    "ZTLFs, ZTRFs"
   ]
  },
  {
   "cell_type": "code",
   "execution_count": 45,
   "metadata": {},
   "outputs": [
    {
     "data": {
      "image/png": "[encoded data removed]",
      "text/latex": [
       "$$\\left \\{ y{\\left (n \\right )} : Y{\\left (z \\right )}, \\quad y{\\left (n - 3 \\right )} : y{\\left (-3 \\right )} + \\frac{1}{z} y{\\left (-2 \\right )} + \\frac{1}{z^{2}} y{\\left (-1 \\right )} + \\frac{1}{z^{3}} Y{\\left (z \\right )}, \\quad y{\\left (n + 2 \\right )} : z \\left(z \\left(Y{\\left (z \\right )} - y{\\left (0 \\right )}\\right) - y{\\left (1 \\right )}\\right)\\right \\}$$"
      ],
      "text/plain": [
       "⎧                              y(-2)   y(-1)   Y(z)                           \n",
       "⎪y(n): Y(z), y(n - 3): y(-3) + ───── + ───── + ────, y(n + 2): z⋅(z⋅(Y(z) - y(\n",
       "⎨                                z        2      3                            \n",
       "⎪                                        z      z                             \n",
       "⎩                                                                             \n",
       "\n",
       "           ⎫\n",
       "0)) - y(1))⎪\n",
       "           ⎬\n",
       "           ⎪\n",
       "           ⎭"
      ]
     },
     "execution_count": 45,
     "metadata": {},
     "output_type": "execute_result"
    }
   ],
   "source": [
    "SupsL={i: zShift(z, y, Y, i.args[0].subs(n, 0)) for i in ZTLFs}\n",
    "SupsL"
   ]
  },
  {
   "cell_type": "code",
   "execution_count": 46,
   "metadata": {},
   "outputs": [
    {
     "data": {
      "image/png": "[encoded data removed]",
      "text/latex": [
       "$$\\left \\{ x{\\left (n \\right )} : X{\\left (z \\right )}, \\quad x{\\left (n + 1 \\right )} : z \\left(X{\\left (z \\right )} - x{\\left (0 \\right )}\\right)\\right \\}$$"
      ],
      "text/plain": [
       "{x(n): X(z), x(n + 1): z⋅(X(z) - x(0))}"
      ]
     },
     "execution_count": 46,
     "metadata": {},
     "output_type": "execute_result"
    }
   ],
   "source": [
    "X=Function('X')\n",
    "SupsR={i: zShift(z, x, X, i.args[0].subs(n, 0)) for i in ZTRFs}\n",
    "SupsR"
   ]
  },
  {
   "cell_type": "code",
   "execution_count": 47,
   "metadata": {},
   "outputs": [
    {
     "data": {
      "image/png": "[encoded data removed]",
      "text/latex": [
       "$$\\left \\{ x{\\left (n \\right )} : z^{n} X{\\left (z \\right )}, \\quad x{\\left (n + 1 \\right )} : z z^{n} \\left(X{\\left (z \\right )} - x{\\left (0 \\right )}\\right)\\right \\}$$"
      ],
      "text/plain": [
       "⎧       n                    n              ⎫\n",
       "⎨x(n): z ⋅X(z), x(n + 1): z⋅z ⋅(X(z) - x(0))⎬\n",
       "⎩                                           ⎭"
      ]
     },
     "execution_count": 47,
     "metadata": {},
     "output_type": "execute_result"
    }
   ],
   "source": [
    "RSups={}\n",
    "for i in expand(ZTR).args:\n",
    "    if list(i.atoms(Function))!=[]:\n",
    "        key=list(i.atoms(Function))[0]\n",
    "        val=zShift(z, x, X, list(list(i.atoms(Function))[0].args)[0].subs(n, 0))\n",
    "\n",
    "        RSups[key]=val/zkernal\n",
    "RSups"
   ]
  },
  {
   "cell_type": "markdown",
   "metadata": {},
   "source": [
    "## Linch Pin\n",
    "if this `ValueError: substitution can not create dummy dependencies\n",
    "` in starting on line 320 in `sympy/concrete/expr_with_limits.py` this would be done"
   ]
  },
  {
   "cell_type": "code",
   "execution_count": 48,
   "metadata": {},
   "outputs": [],
   "source": [
    "#ZTR.subs(RSups)\n",
    "#!!!!!!!!if this value Error was not being trigured this would be done"
   ]
  },
  {
   "cell_type": "markdown",
   "metadata": {},
   "source": [
    "# ZTransfrom Test on common functions listed no Z Tranfrom tables\n",
    "\n",
    "https://en.wikipedia.org/wiki/Z-transform#Table_of_common_Z-transform_pairs"
   ]
  },
  {
   "cell_type": "markdown",
   "metadata": {},
   "source": [
    "## Delta"
   ]
  },
  {
   "cell_type": "code",
   "execution_count": 49,
   "metadata": {},
   "outputs": [
    {
     "data": {
      "image/png": "[encoded data removed]",
      "text/latex": [
       "$$\\sum_{n=-\\infty}^{\\infty} z^{- n} \\delta\\left(n\\right)$$"
      ],
      "text/plain": [
       "  ∞            \n",
       " ___           \n",
       " ╲             \n",
       "  ╲     -n     \n",
       "  ╱    z  ⋅δ(n)\n",
       " ╱             \n",
       " ‾‾‾           \n",
       "n = -∞         "
      ]
     },
     "execution_count": 49,
     "metadata": {},
     "output_type": "execute_result"
    }
   ],
   "source": [
    "TF=ZTransDef(DiracDelta(n), n); TF"
   ]
  },
  {
   "cell_type": "code",
   "execution_count": 50,
   "metadata": {},
   "outputs": [
    {
     "data": {
      "image/png": "[encoded data removed]",
      "text/latex": [
       "$$\\sum_{n=-\\infty}^{\\infty} z^{- n} \\delta\\left(n\\right)$$"
      ],
      "text/plain": [
       "  ∞            \n",
       " ___           \n",
       " ╲             \n",
       "  ╲     -n     \n",
       "  ╱    z  ⋅δ(n)\n",
       " ╱             \n",
       " ‾‾‾           \n",
       "n = -∞         "
      ]
     },
     "execution_count": 50,
     "metadata": {},
     "output_type": "execute_result"
    }
   ],
   "source": [
    "TF.doit()"
   ]
  },
  {
   "cell_type": "markdown",
   "metadata": {},
   "source": [
    "## Step Function"
   ]
  },
  {
   "cell_type": "code",
   "execution_count": 58,
   "metadata": {},
   "outputs": [
    {
     "data": {
      "image/png": "[encoded data removed]",
      "text/latex": [
       "$$\\sum_{n=-\\infty}^{\\infty} z^{- n} \\theta\\left(n\\right)$$"
      ],
      "text/plain": [
       "  ∞                    \n",
       " ___                   \n",
       " ╲                     \n",
       "  ╲     -n             \n",
       "  ╱    z  ⋅Heaviside(n)\n",
       " ╱                     \n",
       " ‾‾‾                   \n",
       "n = -∞                 "
      ]
     },
     "execution_count": 58,
     "metadata": {},
     "output_type": "execute_result"
    }
   ],
   "source": [
    "TF=ZTransDef(Heaviside(n), n); TF"
   ]
  },
  {
   "cell_type": "code",
   "execution_count": 59,
   "metadata": {},
   "outputs": [
    {
     "data": {
      "image/png": "[encoded data removed]",
      "text/latex": [
       "$$\\sum_{n=-\\infty}^{\\infty} z^{- n} \\theta\\left(n\\right)$$"
      ],
      "text/plain": [
       "  ∞                    \n",
       " ___                   \n",
       " ╲                     \n",
       "  ╲     -n             \n",
       "  ╱    z  ⋅Heaviside(n)\n",
       " ╱                     \n",
       " ‾‾‾                   \n",
       "n = -∞                 "
      ]
     },
     "execution_count": 59,
     "metadata": {},
     "output_type": "execute_result"
    }
   ],
   "source": [
    "TF.doit()"
   ]
  },
  {
   "cell_type": "markdown",
   "metadata": {},
   "source": [
    "## Piecewise"
   ]
  },
  {
   "cell_type": "code",
   "execution_count": 61,
   "metadata": {},
   "outputs": [
    {
     "data": {
      "image/png": "[encoded data removed]",
      "text/latex": [
       "$$\\sum_{n=-\\infty}^{\\infty} \\begin{cases} 0 & \\text{for}\\: n < 0 \\\\z^{- n} \\theta\\left(0\\right) & \\text{for}\\: n = 0 \\\\z^{- n} & \\text{for}\\: n > 0 \\end{cases}$$"
      ],
      "text/plain": [
       "  ∞                                \n",
       "______                             \n",
       "╲                                  \n",
       " ╲     ⎧       0          for n < 0\n",
       "  ╲    ⎪                           \n",
       "   ╲   ⎪ -n                        \n",
       "    ╲  ⎨z  ⋅Heaviside(0)  for n = 0\n",
       "    ╱  ⎪                           \n",
       "   ╱   ⎪       -n                  \n",
       "  ╱    ⎩      z           for n > 0\n",
       " ╱                                 \n",
       "╱                                  \n",
       "‾‾‾‾‾‾                             \n",
       "n = -∞                             "
      ]
     },
     "execution_count": 61,
     "metadata": {},
     "output_type": "execute_result"
    }
   ],
   "source": [
    "TF.rewrite(Piecewise).doit()"
   ]
  },
  {
   "cell_type": "markdown",
   "metadata": {},
   "source": [
    "## cos"
   ]
  },
  {
   "cell_type": "code",
   "execution_count": 53,
   "metadata": {},
   "outputs": [
    {
     "data": {
      "image/png": "[encoded data removed]",
      "text/latex": [
       "$$\\sum_{n=-\\infty}^{\\infty} z^{- n} \\cos{\\left (n \\omega_{0} \\right )}$$"
      ],
      "text/plain": [
       "  ∞                 \n",
       " ___                \n",
       " ╲                  \n",
       "  ╲     -n          \n",
       "  ╱    z  ⋅cos(n⋅ω₀)\n",
       " ╱                  \n",
       " ‾‾‾                \n",
       "n = -∞              "
      ]
     },
     "execution_count": 53,
     "metadata": {},
     "output_type": "execute_result"
    }
   ],
   "source": [
    "radFreq=symbols('omega_0')\n",
    "TF=ZTransDef(cos(radFreq*n), n); TF"
   ]
  },
  {
   "cell_type": "code",
   "execution_count": 54,
   "metadata": {},
   "outputs": [
    {
     "data": {
      "image/png": "[encoded data removed]",
      "text/latex": [
       "$$\\sum_{n=-\\infty}^{\\infty} z^{- n} \\cos{\\left (n \\omega_{0} \\right )}$$"
      ],
      "text/plain": [
       "  ∞                 \n",
       " ___                \n",
       " ╲                  \n",
       "  ╲     -n          \n",
       "  ╱    z  ⋅cos(n⋅ω₀)\n",
       " ╱                  \n",
       " ‾‾‾                \n",
       "n = -∞              "
      ]
     },
     "execution_count": 54,
     "metadata": {},
     "output_type": "execute_result"
    }
   ],
   "source": [
    "TF.doit()"
   ]
  },
  {
   "cell_type": "code",
   "execution_count": null,
   "metadata": {},
   "outputs": [],
   "source": []
  }
 ],
 "metadata": {
  "kernelspec": {
   "display_name": "Python 3",
   "language": "python",
   "name": "python3"
  },
  "language_info": {
   "codemirror_mode": {
    "name": "ipython",
    "version": 3
   },
   "file_extension": ".py",
   "mimetype": "text/x-python",
   "name": "python",
   "nbconvert_exporter": "python",
   "pygments_lexer": "ipython3",
   "version": "3.6.5"
  },
  "latex_envs": {
   "LaTeX_envs_menu_present": true,
   "autoclose": false,
   "autocomplete": true,
   "bibliofile": "biblio.bib",
   "cite_by": "apalike",
   "current_citInitial": 1,
   "eqLabelWithNumbers": true,
   "eqNumInitial": 1,
   "hotkeys": {
    "equation": "Ctrl-E",
    "itemize": "Ctrl-I"
   },
   "labels_anchors": false,
   "latex_user_defs": false,
   "report_style_numbering": false,
   "user_envs_cfg": false
  },
  "toc": {
   "base_numbering": 1,
   "nav_menu": {},
   "number_sections": true,
   "sideBar": true,
   "skip_h1_title": false,
   "title_cell": "Table of Contents",
   "title_sidebar": "Contents",
   "toc_cell": false,
   "toc_position": {},
   "toc_section_display": true,
   "toc_window_display": false
  }
 },
 "nbformat": 4,
 "nbformat_minor": 2
}
